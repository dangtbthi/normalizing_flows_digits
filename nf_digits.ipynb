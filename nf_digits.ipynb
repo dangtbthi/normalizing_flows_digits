{
  "nbformat": 4,
  "nbformat_minor": 0,
  "metadata": {
    "colab": {
      "provenance": [],
      "authorship_tag": "ABX9TyMt8f7Ek4znSWt7nf6C0kGy",
      "include_colab_link": true
    },
    "kernelspec": {
      "name": "python3",
      "display_name": "Python 3"
    },
    "language_info": {
      "name": "python"
    },
    "widgets": {
      "application/vnd.jupyter.widget-state+json": {
        "ac78bac214bf4d10b5c472df3d50c05a": {
          "model_module": "@jupyter-widgets/controls",
          "model_name": "HBoxModel",
          "model_module_version": "1.5.0",
          "state": {
            "_dom_classes": [],
            "_model_module": "@jupyter-widgets/controls",
            "_model_module_version": "1.5.0",
            "_model_name": "HBoxModel",
            "_view_count": null,
            "_view_module": "@jupyter-widgets/controls",
            "_view_module_version": "1.5.0",
            "_view_name": "HBoxView",
            "box_style": "",
            "children": [
              "IPY_MODEL_e376d1f4617b4514b39211a06ec3422e",
              "IPY_MODEL_e54de9a4d436427a8cb668dbd275b3d7",
              "IPY_MODEL_ee28f25a43fd49988ceab664e4a3b213"
            ],
            "layout": "IPY_MODEL_9f35007ff1a7442781b4b0a98c4633e2"
          }
        },
        "e376d1f4617b4514b39211a06ec3422e": {
          "model_module": "@jupyter-widgets/controls",
          "model_name": "HTMLModel",
          "model_module_version": "1.5.0",
          "state": {
            "_dom_classes": [],
            "_model_module": "@jupyter-widgets/controls",
            "_model_module_version": "1.5.0",
            "_model_name": "HTMLModel",
            "_view_count": null,
            "_view_module": "@jupyter-widgets/controls",
            "_view_module_version": "1.5.0",
            "_view_name": "HTMLView",
            "description": "",
            "description_tooltip": null,
            "layout": "IPY_MODEL_8516e7b93e1a4ce5a0595b35d9630ee7",
            "placeholder": "​",
            "style": "IPY_MODEL_62791533b379438a9971c58636f88f51",
            "value": "100%"
          }
        },
        "e54de9a4d436427a8cb668dbd275b3d7": {
          "model_module": "@jupyter-widgets/controls",
          "model_name": "FloatProgressModel",
          "model_module_version": "1.5.0",
          "state": {
            "_dom_classes": [],
            "_model_module": "@jupyter-widgets/controls",
            "_model_module_version": "1.5.0",
            "_model_name": "FloatProgressModel",
            "_view_count": null,
            "_view_module": "@jupyter-widgets/controls",
            "_view_module_version": "1.5.0",
            "_view_name": "ProgressView",
            "bar_style": "success",
            "description": "",
            "description_tooltip": null,
            "layout": "IPY_MODEL_f6f6aa13fdd44ed096da439b95527de0",
            "max": 10000,
            "min": 0,
            "orientation": "horizontal",
            "style": "IPY_MODEL_29632f19953d49d784ac5c1607387d93",
            "value": 10000
          }
        },
        "ee28f25a43fd49988ceab664e4a3b213": {
          "model_module": "@jupyter-widgets/controls",
          "model_name": "HTMLModel",
          "model_module_version": "1.5.0",
          "state": {
            "_dom_classes": [],
            "_model_module": "@jupyter-widgets/controls",
            "_model_module_version": "1.5.0",
            "_model_name": "HTMLModel",
            "_view_count": null,
            "_view_module": "@jupyter-widgets/controls",
            "_view_module_version": "1.5.0",
            "_view_name": "HTMLView",
            "description": "",
            "description_tooltip": null,
            "layout": "IPY_MODEL_c153a992e4984a82a559d212848c27b8",
            "placeholder": "​",
            "style": "IPY_MODEL_30e74405a57c42e5bd8901771f530fdb",
            "value": " 10000/10000 [08:24&lt;00:00, 21.01it/s]"
          }
        },
        "9f35007ff1a7442781b4b0a98c4633e2": {
          "model_module": "@jupyter-widgets/base",
          "model_name": "LayoutModel",
          "model_module_version": "1.2.0",
          "state": {
            "_model_module": "@jupyter-widgets/base",
            "_model_module_version": "1.2.0",
            "_model_name": "LayoutModel",
            "_view_count": null,
            "_view_module": "@jupyter-widgets/base",
            "_view_module_version": "1.2.0",
            "_view_name": "LayoutView",
            "align_content": null,
            "align_items": null,
            "align_self": null,
            "border": null,
            "bottom": null,
            "display": null,
            "flex": null,
            "flex_flow": null,
            "grid_area": null,
            "grid_auto_columns": null,
            "grid_auto_flow": null,
            "grid_auto_rows": null,
            "grid_column": null,
            "grid_gap": null,
            "grid_row": null,
            "grid_template_areas": null,
            "grid_template_columns": null,
            "grid_template_rows": null,
            "height": null,
            "justify_content": null,
            "justify_items": null,
            "left": null,
            "margin": null,
            "max_height": null,
            "max_width": null,
            "min_height": null,
            "min_width": null,
            "object_fit": null,
            "object_position": null,
            "order": null,
            "overflow": null,
            "overflow_x": null,
            "overflow_y": null,
            "padding": null,
            "right": null,
            "top": null,
            "visibility": null,
            "width": null
          }
        },
        "8516e7b93e1a4ce5a0595b35d9630ee7": {
          "model_module": "@jupyter-widgets/base",
          "model_name": "LayoutModel",
          "model_module_version": "1.2.0",
          "state": {
            "_model_module": "@jupyter-widgets/base",
            "_model_module_version": "1.2.0",
            "_model_name": "LayoutModel",
            "_view_count": null,
            "_view_module": "@jupyter-widgets/base",
            "_view_module_version": "1.2.0",
            "_view_name": "LayoutView",
            "align_content": null,
            "align_items": null,
            "align_self": null,
            "border": null,
            "bottom": null,
            "display": null,
            "flex": null,
            "flex_flow": null,
            "grid_area": null,
            "grid_auto_columns": null,
            "grid_auto_flow": null,
            "grid_auto_rows": null,
            "grid_column": null,
            "grid_gap": null,
            "grid_row": null,
            "grid_template_areas": null,
            "grid_template_columns": null,
            "grid_template_rows": null,
            "height": null,
            "justify_content": null,
            "justify_items": null,
            "left": null,
            "margin": null,
            "max_height": null,
            "max_width": null,
            "min_height": null,
            "min_width": null,
            "object_fit": null,
            "object_position": null,
            "order": null,
            "overflow": null,
            "overflow_x": null,
            "overflow_y": null,
            "padding": null,
            "right": null,
            "top": null,
            "visibility": null,
            "width": null
          }
        },
        "62791533b379438a9971c58636f88f51": {
          "model_module": "@jupyter-widgets/controls",
          "model_name": "DescriptionStyleModel",
          "model_module_version": "1.5.0",
          "state": {
            "_model_module": "@jupyter-widgets/controls",
            "_model_module_version": "1.5.0",
            "_model_name": "DescriptionStyleModel",
            "_view_count": null,
            "_view_module": "@jupyter-widgets/base",
            "_view_module_version": "1.2.0",
            "_view_name": "StyleView",
            "description_width": ""
          }
        },
        "f6f6aa13fdd44ed096da439b95527de0": {
          "model_module": "@jupyter-widgets/base",
          "model_name": "LayoutModel",
          "model_module_version": "1.2.0",
          "state": {
            "_model_module": "@jupyter-widgets/base",
            "_model_module_version": "1.2.0",
            "_model_name": "LayoutModel",
            "_view_count": null,
            "_view_module": "@jupyter-widgets/base",
            "_view_module_version": "1.2.0",
            "_view_name": "LayoutView",
            "align_content": null,
            "align_items": null,
            "align_self": null,
            "border": null,
            "bottom": null,
            "display": null,
            "flex": null,
            "flex_flow": null,
            "grid_area": null,
            "grid_auto_columns": null,
            "grid_auto_flow": null,
            "grid_auto_rows": null,
            "grid_column": null,
            "grid_gap": null,
            "grid_row": null,
            "grid_template_areas": null,
            "grid_template_columns": null,
            "grid_template_rows": null,
            "height": null,
            "justify_content": null,
            "justify_items": null,
            "left": null,
            "margin": null,
            "max_height": null,
            "max_width": null,
            "min_height": null,
            "min_width": null,
            "object_fit": null,
            "object_position": null,
            "order": null,
            "overflow": null,
            "overflow_x": null,
            "overflow_y": null,
            "padding": null,
            "right": null,
            "top": null,
            "visibility": null,
            "width": null
          }
        },
        "29632f19953d49d784ac5c1607387d93": {
          "model_module": "@jupyter-widgets/controls",
          "model_name": "ProgressStyleModel",
          "model_module_version": "1.5.0",
          "state": {
            "_model_module": "@jupyter-widgets/controls",
            "_model_module_version": "1.5.0",
            "_model_name": "ProgressStyleModel",
            "_view_count": null,
            "_view_module": "@jupyter-widgets/base",
            "_view_module_version": "1.2.0",
            "_view_name": "StyleView",
            "bar_color": null,
            "description_width": ""
          }
        },
        "c153a992e4984a82a559d212848c27b8": {
          "model_module": "@jupyter-widgets/base",
          "model_name": "LayoutModel",
          "model_module_version": "1.2.0",
          "state": {
            "_model_module": "@jupyter-widgets/base",
            "_model_module_version": "1.2.0",
            "_model_name": "LayoutModel",
            "_view_count": null,
            "_view_module": "@jupyter-widgets/base",
            "_view_module_version": "1.2.0",
            "_view_name": "LayoutView",
            "align_content": null,
            "align_items": null,
            "align_self": null,
            "border": null,
            "bottom": null,
            "display": null,
            "flex": null,
            "flex_flow": null,
            "grid_area": null,
            "grid_auto_columns": null,
            "grid_auto_flow": null,
            "grid_auto_rows": null,
            "grid_column": null,
            "grid_gap": null,
            "grid_row": null,
            "grid_template_areas": null,
            "grid_template_columns": null,
            "grid_template_rows": null,
            "height": null,
            "justify_content": null,
            "justify_items": null,
            "left": null,
            "margin": null,
            "max_height": null,
            "max_width": null,
            "min_height": null,
            "min_width": null,
            "object_fit": null,
            "object_position": null,
            "order": null,
            "overflow": null,
            "overflow_x": null,
            "overflow_y": null,
            "padding": null,
            "right": null,
            "top": null,
            "visibility": null,
            "width": null
          }
        },
        "30e74405a57c42e5bd8901771f530fdb": {
          "model_module": "@jupyter-widgets/controls",
          "model_name": "DescriptionStyleModel",
          "model_module_version": "1.5.0",
          "state": {
            "_model_module": "@jupyter-widgets/controls",
            "_model_module_version": "1.5.0",
            "_model_name": "DescriptionStyleModel",
            "_view_count": null,
            "_view_module": "@jupyter-widgets/base",
            "_view_module_version": "1.2.0",
            "_view_name": "StyleView",
            "description_width": ""
          }
        }
      }
    }
  },
  "cells": [
    {
      "cell_type": "markdown",
      "metadata": {
        "id": "view-in-github",
        "colab_type": "text"
      },
      "source": [
        "<a href=\"https://colab.research.google.com/github/dangtbthi/normalizing_flows_digits/blob/main/nf_digits.ipynb\" target=\"_parent\"><img src=\"https://colab.research.google.com/assets/colab-badge.svg\" alt=\"Open In Colab\"/></a>"
      ]
    },
    {
      "cell_type": "markdown",
      "source": [
        "# Import các thư viện"
      ],
      "metadata": {
        "id": "653mpp8xW71t"
      }
    },
    {
      "cell_type": "code",
      "execution_count": null,
      "metadata": {
        "id": "_qnqgcOLWuCG"
      },
      "outputs": [],
      "source": [
        "import os\n",
        "import numpy as np\n",
        "import random\n",
        "from tqdm.auto import tqdm\n",
        "import matplotlib.pyplot as plt\n",
        "\n",
        "import torch\n",
        "import torch.nn as nn\n",
        "import torch.nn.functional as F\n",
        "from torch.utils.data import Dataset, DataLoader\n",
        "import torch.optim as optim\n",
        "\n",
        "from sklearn.datasets import load_digits"
      ]
    },
    {
      "cell_type": "markdown",
      "source": [
        "# Chuẩn bị nền tảng"
      ],
      "metadata": {
        "id": "4nZGBeSBW_VI"
      }
    },
    {
      "cell_type": "code",
      "source": [
        "def plot_digits(data):\n",
        "    fig, ax = plt.subplots(10, 10, figsize=(8, 8),\n",
        "                           subplot_kw=dict(xticks=[], yticks=[]))\n",
        "    fig.subplots_adjust(hspace=0.05, wspace=0.05)\n",
        "    for i, axi in enumerate(ax.flat):\n",
        "        im = axi.imshow(data[i].reshape(8, 8), cmap='binary')\n",
        "\n",
        "def inf_iterator(iterable):\n",
        "    iterator = iterable.__iter__()\n",
        "    while True:\n",
        "        try:\n",
        "            yield iterator.__next__()\n",
        "        except StopIteration:\n",
        "            iterator = iterable.__iter__()"
      ],
      "metadata": {
        "id": "zkV_fejOW0rL"
      },
      "execution_count": null,
      "outputs": []
    },
    {
      "cell_type": "code",
      "source": [
        "torch.manual_seed(42)\n",
        "np.random.seed(42)\n",
        "random.seed(42)"
      ],
      "metadata": {
        "id": "_94SotebXJOf"
      },
      "execution_count": null,
      "outputs": []
    },
    {
      "cell_type": "markdown",
      "source": [
        "# Chuẩn bị dataset"
      ],
      "metadata": {
        "id": "e1oZzKOkXM-f"
      }
    },
    {
      "cell_type": "code",
      "source": [
        "class DigitsDataset(Dataset):\n",
        "    def __init__(self, raw_data, transform=None):\n",
        "        super().__init__()\n",
        "        self.data = torch.from_numpy(raw_data.astype(np.float32)) / 16\n",
        "        self.transform = transform\n",
        "\n",
        "    def __len__(self):\n",
        "        return len(self.data)\n",
        "\n",
        "    def __getitem__(self, idx):\n",
        "        data = self.data[idx]\n",
        "        if self.transform is not None:\n",
        "            data = self.transform(data)\n",
        "        return data"
      ],
      "metadata": {
        "id": "5ECK-Ir9XMpv"
      },
      "execution_count": null,
      "outputs": []
    },
    {
      "cell_type": "code",
      "source": [
        "# Create digit dataset\n",
        "digits = load_digits()\n",
        "train_dataset = DigitsDataset(digits.data[:-100])\n",
        "test_dataset = DigitsDataset(digits.data[-100:])\n",
        "plot_digits(digits.data)"
      ],
      "metadata": {
        "colab": {
          "base_uri": "https://localhost:8080/",
          "height": 653
        },
        "id": "HeIUAJLKXeHk",
        "outputId": "46085643-43cb-4212-8e40-33055f382ce4"
      },
      "execution_count": null,
      "outputs": [
        {
          "output_type": "display_data",
          "data": {
            "text/plain": [
              "<Figure size 800x800 with 100 Axes>"
            ],
            "image/png": "[encoded data removed]"
          },
          "metadata": {}
        }
      ]
    },
    {
      "cell_type": "markdown",
      "source": [
        "# Normalizing flows (Affine Coupling Layer)"
      ],
      "metadata": {
        "id": "48t61OZQXpgK"
      }
    },
    {
      "cell_type": "code",
      "source": [
        "# DO NOT CHANGE THIS CELL\n",
        "class StandardLogistic(torch.distributions.Distribution):\n",
        "    \"\"\"Standard logistic distribution.\n",
        "    \"\"\"\n",
        "    def __init__(self):\n",
        "        super(StandardLogistic, self).__init__(validate_args=False)\n",
        "\n",
        "    def log_prob(self, x):\n",
        "        \"\"\"Computes data log-likelihood.\n",
        "        Args:\n",
        "            x: input tensor.\n",
        "        Returns:\n",
        "            log-likelihood.\n",
        "        \"\"\"\n",
        "        return -(F.softplus(x) + F.softplus(-x))\n",
        "\n",
        "    def sample(self, size):\n",
        "        \"\"\"Samples from the distribution.\n",
        "        Args:\n",
        "            size: number of samples to generate.\n",
        "        Returns:\n",
        "            samples.\n",
        "        \"\"\"\n",
        "        z = torch.distributions.Uniform(0., 1.).sample(size)\n",
        "        return torch.log(z) - torch.log(1. - z)\n",
        "\n",
        "def dequantize(x):\n",
        "    '''Dequantize data.\n",
        "    Add noise sampled from Uniform(0, 1) to each pixel (in [0, 16]).\n",
        "    Args:\n",
        "        x: input tensor.\n",
        "        reverse: True in inference mode, False in training mode.\n",
        "    Returns:\n",
        "        dequantized data.\n",
        "    '''\n",
        "    noise = torch.distributions.Uniform(0., 1.).sample(x.size())\n",
        "    return (x * 16. + noise) / 17."
      ],
      "metadata": {
        "id": "35CjoAjOXzJi"
      },
      "execution_count": null,
      "outputs": []
    },
    {
      "cell_type": "code",
      "source": [
        "class AffineCouplingLayer(nn.Module):\n",
        "    def __init__(self, input_dim, hidden_dim, num_layers, partition):\n",
        "        super().__init__()\n",
        "        assert partition in [\"left\", \"right\"], \"Partition must be either 'left' or 'right'.\"\n",
        "        self.partition = partition\n",
        "\n",
        "        d = input_dim // 2\n",
        "        if partition == \"left\":\n",
        "            self._get_fixed = lambda x: x[:, :d]\n",
        "            self._get_moving = lambda x: x[:, d:]\n",
        "        else:\n",
        "            self._get_fixed = lambda x: x[:, (input_dim - d):]\n",
        "            self._get_moving = lambda x: x[:, :(input_dim - d)]\n",
        "\n",
        "        _modules = [nn.Linear(d, hidden_dim), nn.ReLU()]\n",
        "        for _ in range(num_layers):\n",
        "            _modules.append(nn.Linear(hidden_dim, hidden_dim))\n",
        "            _modules.append(nn.ReLU())\n",
        "        _modules.append(nn.Linear(hidden_dim, (input_dim - d) * 2))\n",
        "        self.conditioner = nn.Sequential(*_modules)\n",
        "\n",
        "    def forward(self, z):\n",
        "        \"\"\" z -> x\"\"\"\n",
        "        fixed = self._get_fixed(z)\n",
        "        updated = self._get_moving(z)\n",
        "\n",
        "        h = self.conditioner(fixed)\n",
        "\n",
        "        a = h[:, :h.shape[1] // 2]\n",
        "        b = h[:, h.shape[1] // 2:]\n",
        "\n",
        "        z1 = fixed\n",
        "        z2 = (updated - b) * torch.exp(-a)\n",
        "\n",
        "        if self.partition == \"left\":\n",
        "            x = torch.cat([z1, z2], dim=1)\n",
        "        else:\n",
        "            x = torch.cat([z2, z1], dim=1)\n",
        "        return x\n",
        "\n",
        "    def inverse(self, x):\n",
        "        \"\"\" x -> z (forward transformation) \"\"\"\n",
        "        fixed = self._get_fixed(x)\n",
        "        updated = self._get_moving(x)\n",
        "\n",
        "        h = self.conditioner(fixed)\n",
        "\n",
        "        a = h[:, :h.shape[1] // 2]\n",
        "        b = h[:, h.shape[1] // 2:]\n",
        "\n",
        "        x1 = fixed\n",
        "        x2 = updated * torch.exp(a) + b\n",
        "\n",
        "        if self.partition == \"left\":\n",
        "            z = torch.cat([x1, x2], dim=1)\n",
        "        else:\n",
        "            z = torch.cat([x2, x1], dim=1)\n",
        "\n",
        "        log_det_jacobian = torch.sum(a, dim=1)\n",
        "        return z, log_det_jacobian"
      ],
      "metadata": {
        "id": "lxlJfnqGYHxE"
      },
      "execution_count": null,
      "outputs": []
    },
    {
      "cell_type": "code",
      "source": [
        "class NF(nn.Module):\n",
        "    def __init__(self, input_dim, hidden_dim, num_layers, num_coupling_layers, prior):\n",
        "        super().__init__()\n",
        "        self.input_dim = input_dim\n",
        "        self.num_coupling_layers = num_coupling_layers\n",
        "\n",
        "        self.coupling_layers = nn.ModuleList()\n",
        "        for i in range(num_coupling_layers):\n",
        "            partition = \"left\" if i % 2 == 0 else \"right\"\n",
        "            self.coupling_layers.append(AffineCouplingLayer(input_dim, hidden_dim, num_layers, partition))\n",
        "\n",
        "        self.prior = prior\n",
        "        self.register_buffer('_dummy', torch.empty([0, ]))\n",
        "\n",
        "    def forward(self, z):\n",
        "        with torch.no_grad():\n",
        "            x = z # Initialize x with z\n",
        "            for layer in reversed(self.coupling_layers):\n",
        "                x = layer.forward(x)\n",
        "        return x\n",
        "\n",
        "    def inverse(self, x):\n",
        "        log_det_jacobian_sum = torch.zeros(x.shape[0], device=self._dummy.device)\n",
        "        z = x # Initialize z with x\n",
        "        for layer in self.coupling_layers:\n",
        "            z, log_det_jacobian = layer.inverse(z) # Pass z instead of x\n",
        "            log_det_jacobian_sum += log_det_jacobian\n",
        "        # log_det_jacobian_sum += self.scale.sum() # This line caused the error and should be removed.\n",
        "        return z, log_det_jacobian_sum\n",
        "\n",
        "    def log_prob(self, x):\n",
        "        z, log_det_jacobian = self.inverse(x)\n",
        "        log_p = torch.sum(self.prior.log_prob(z), dim=1) + log_det_jacobian\n",
        "        return log_p\n",
        "\n",
        "    def sample(self, num_samples):\n",
        "        z = self.prior.sample((num_samples, self.input_dim)).to(self._dummy.device)\n",
        "        x = self.forward(z)\n",
        "        return x"
      ],
      "metadata": {
        "id": "raqW6UblYRu3"
      },
      "execution_count": null,
      "outputs": []
    },
    {
      "cell_type": "code",
      "source": [
        "# DO NOT CHANGE THIS CELL\n",
        "BATCH_SIZE = 128\n",
        "INPUT_DIM = 64\n",
        "HIDDEN_DIM = 256\n",
        "NUM_LAYERS = 3\n",
        "NUM_COUPLING_LAYERS = 5\n",
        "MAX_ITERS = 10000\n",
        "\n",
        "dataset_mean = torch.from_numpy((digits.data[:-100] / 16).mean(0, keepdims=True).astype(np.float32))\n",
        "train_loader = inf_iterator(DataLoader(train_dataset, batch_size=BATCH_SIZE, shuffle=True))\n",
        "test_loader = DataLoader(test_dataset, batch_size=BATCH_SIZE, shuffle=False)\n",
        "prior = StandardLogistic()\n",
        "nf_ckpt_fn = 'model_nf.pt'\n",
        "\n",
        "# Re-run training if the model file does not exist\n",
        "if not os.path.exists(nf_ckpt_fn):\n",
        "    model_nf = NF(INPUT_DIM, HIDDEN_DIM, num_layers=NUM_LAYERS, num_coupling_layers=NUM_COUPLING_LAYERS, prior=prior)\n",
        "    train_op = optim.Adam(model_nf.parameters(), lr=1e-3, betas=(0.9, 0.999), eps=1e-4)\n",
        "\n",
        "    model_nf.train()\n",
        "    for i in tqdm(range(1, MAX_ITERS + 1)):\n",
        "        batch = next(train_loader)\n",
        "        batch = dequantize(batch)\n",
        "        batch = batch - dataset_mean\n",
        "\n",
        "        log_p = model_nf.log_prob(batch)\n",
        "        loss = -log_p.mean()\n",
        "\n",
        "        train_op.zero_grad()\n",
        "        loss.backward()\n",
        "        train_op.step()\n",
        "        if i % 1000 == 0:\n",
        "            bit_per_dim = (loss + np.log(16.) * INPUT_DIM) / (INPUT_DIM * np.log(2.))\n",
        "            with torch.no_grad():\n",
        "                all_losses = []\n",
        "                for batch in test_loader:\n",
        "                    batch = dequantize(batch)\n",
        "                    batch = batch - dataset_mean\n",
        "                    log_p = model_nf.log_prob(batch)\n",
        "                    all_losses.append(-log_p)\n",
        "                all_losses = torch.cat(all_losses)\n",
        "                test_loss = torch.mean(all_losses)\n",
        "            print(f'iter: {i} loss: {loss:.4f} bits/dim = {bit_per_dim:.4f} test loss: {test_loss:.4f}')\n",
        "    torch.save(model_nf.state_dict(), nf_ckpt_fn)\n",
        "else:\n",
        "    # If model exists, load it\n",
        "    model_nf = NF(INPUT_DIM, HIDDEN_DIM, num_layers=NUM_LAYERS, num_coupling_layers=NUM_COUPLING_LAYERS, prior=prior)\n",
        "    model_nf.load_state_dict(torch.load(nf_ckpt_fn))\n",
        "    model_nf.eval()"
      ],
      "metadata": {
        "id": "SyI_nqDdZzX3",
        "colab": {
          "base_uri": "https://localhost:8080/",
          "height": 223,
          "referenced_widgets": [
            "ac78bac214bf4d10b5c472df3d50c05a",
            "e376d1f4617b4514b39211a06ec3422e",
            "e54de9a4d436427a8cb668dbd275b3d7",
            "ee28f25a43fd49988ceab664e4a3b213",
            "9f35007ff1a7442781b4b0a98c4633e2",
            "8516e7b93e1a4ce5a0595b35d9630ee7",
            "62791533b379438a9971c58636f88f51",
            "f6f6aa13fdd44ed096da439b95527de0",
            "29632f19953d49d784ac5c1607387d93",
            "c153a992e4984a82a559d212848c27b8",
            "30e74405a57c42e5bd8901771f530fdb"
          ]
        },
        "outputId": "b29871f3-cd18-4b22-f411-3848f2368a55"
      },
      "execution_count": null,
      "outputs": [
        {
          "output_type": "display_data",
          "data": {
            "text/plain": [
              "  0%|          | 0/10000 [00:00<?, ?it/s]"
            ],
            "application/vnd.jupyter.widget-view+json": {
              "version_major": 2,
              "version_minor": 0,
              "model_id": "ac78bac214bf4d10b5c472df3d50c05a"
            }
          },
          "metadata": {}
        },
        {
          "output_type": "stream",
          "name": "stdout",
          "text": [
            "iter: 1000 loss: -64.5993 bits/dim = 2.5438 test loss: -56.7673\n",
            "iter: 2000 loss: -73.6555 bits/dim = 2.3396 test loss: -60.3655\n",
            "iter: 3000 loss: -78.4312 bits/dim = 2.2320 test loss: -57.8314\n",
            "iter: 4000 loss: -81.9029 bits/dim = 2.1537 test loss: -59.1373\n",
            "iter: 5000 loss: -80.9551 bits/dim = 2.1751 test loss: -58.0852\n",
            "iter: 6000 loss: -84.5308 bits/dim = 2.0945 test loss: -57.1957\n",
            "iter: 7000 loss: -86.7025 bits/dim = 2.0455 test loss: -55.7866\n",
            "iter: 8000 loss: -87.6437 bits/dim = 2.0243 test loss: -48.1905\n",
            "iter: 9000 loss: -88.4275 bits/dim = 2.0067 test loss: -52.0907\n",
            "iter: 10000 loss: -88.2235 bits/dim = 2.0113 test loss: -48.6955\n"
          ]
        }
      ]
    },
    {
      "cell_type": "code",
      "source": [
        "model_nf.eval()\n",
        "with torch.no_grad():\n",
        "    samples = model_nf.sample(100).cpu()\n",
        "samples += dataset_mean\n",
        "plot_digits(samples)\n",
        "plt.tight_layout()\n",
        "plt.show()"
      ],
      "metadata": {
        "colab": {
          "base_uri": "https://localhost:8080/",
          "height": 807
        },
        "id": "ImT3jNLIZ8z1",
        "outputId": "463c9b8c-758d-41d6-eb02-a494720496d8"
      },
      "execution_count": null,
      "outputs": [
        {
          "output_type": "display_data",
          "data": {
            "text/plain": [
              "<Figure size 800x800 with 100 Axes>"
            ],
            "image/png": "[encoded data removed]"
          },
          "metadata": {}
        }
      ]
    }
  ]
}